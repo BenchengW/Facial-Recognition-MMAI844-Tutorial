{
 "cells": [
  {
   "cell_type": "markdown",
   "metadata": {
    "id": "QgmaT2_vo5oV"
   },
   "source": [
    "## MMAI 844 Facial Recognition Demo - Colab Version\n",
    "\n",
    "## Team Albert"
   ]
  },
  {
   "cell_type": "markdown",
   "metadata": {
    "id": "c6vO1pX_o5oV"
   },
   "source": [
    "<div style=\"float: left; width: 75%; height: 200px; padding-bottom:400px\">\n",
    "    <img src=\"https://www.digitalvidya.com/wp-content/uploads/2018/09/Face-Recognition-Python-1280x720.jpg\" alt=\"CNN\">\n",
    "</div>\n",
    "</div>"
   ]
  },
  {
   "cell_type": "code",
   "execution_count": null,
   "metadata": {
    "colab": {
     "base_uri": "https://localhost:8080/"
    },
    "id": "XnhKgaQlo5oV",
    "outputId": "04acbcb8-274f-494c-a254-34b44fd75945"
   },
   "outputs": [],
   "source": [
    "# Clone Github Repo which includes sample data\n",
    "!git clone https://github.com/BenchengW/Facial-Recognition-MMAI844-Tutorial"
   ]
  },
  {
   "cell_type": "code",
   "execution_count": null,
   "metadata": {
    "colab": {
     "base_uri": "https://localhost:8080/"
    },
    "id": "huBviVPyo5oV",
    "outputId": "7657b6ee-d0e4-4e6e-d3da-19cda155def0"
   },
   "outputs": [],
   "source": [
    "# Install VGGface for later use\n",
    "! pip install keras-vggface\n",
    "! pip install keras_preprocessing \n",
    "! pip install keras_applications"
   ]
  },
  {
   "cell_type": "markdown",
   "metadata": {
    "id": "1nfgnucOo5oW"
   },
   "source": [
    "# Facial Image Classification with Tensorflow pre-trained model\n",
    "\n",
    "Face recognition is the general task of identifying and verifying people from photographs of their face."
   ]
  },
  {
   "cell_type": "markdown",
   "metadata": {
    "id": "dI2_7s_So5oW"
   },
   "source": [
    "## Step 1.1: Imports Libraries\n",
    "Import libraries and define environment variables"
   ]
  },
  {
   "cell_type": "code",
   "execution_count": null,
   "metadata": {
    "colab": {
     "base_uri": "https://localhost:8080/"
    },
    "id": "PsD3Ls3wo5oW",
    "outputId": "ea362737-7086-4010-85f7-3fb9d254b513"
   },
   "outputs": [],
   "source": [
    "import cv2\n",
    "import numpy as np\n",
    "import os\n",
    "import math\n",
    "from matplotlib import pyplot as plt\n",
    "%matplotlib inline\n",
    "print(cv2.__version__)\n",
    "%matplotlib inline\n",
    "cv2.startWindowThread()\n",
    "from os import listdir\n",
    "from PIL import Image\n",
    "import warnings\n",
    "warnings.filterwarnings(action='once')\n",
    "import urllib.request"
   ]
  },
  {
   "cell_type": "code",
   "execution_count": null,
   "metadata": {
    "colab": {
     "base_uri": "https://localhost:8080/"
    },
    "id": "fKCSbFrFo5oY",
    "outputId": "05ffb736-960d-4f62-b701-2be255b4e6fe"
   },
   "outputs": [],
   "source": [
    "import keras\n",
    "import keras_vggface\n",
    "from keras.engine import  Model\n",
    "from keras.layers import Flatten, Dense, Input\n",
    "from keras_vggface.vggface import VGGFace\n",
    "from tensorflow.keras import datasets, layers, models\n",
    "from keras.optimizers import RMSprop, SGD\n",
    "from keras_vggface.utils import preprocess_input\n",
    "from keras_vggface.utils import decode_predictions\n",
    "from numpy import asarray"
   ]
  },
  {
   "cell_type": "markdown",
   "metadata": {
    "id": "3PUpFv5Xo5oY"
   },
   "source": [
    "<div style=\"float: left; width: 75%; height: 200px; padding-bottom:350px\">\n",
    "    <img src=\"https://lh3.googleusercontent.com/IdcOyMJ4hCDvSJXWBo1Rxr1BTM9fQWoxShs0tdS93bpyQ1K6vIog_mV9LrfE0DwKK61X2fHY51AAbPJTkOOMDUVxaiE32JsGog74k3lnXKXPefpd_fSC3divPG3AEEQhaith6S47\" alt=\"CNN\">\n",
    "</div>\n",
    "</div>"
   ]
  },
  {
   "cell_type": "markdown",
   "metadata": {
    "id": "_WRc_l03o5oY"
   },
   "source": [
    "## Step 1.2: Load Data/Image\n",
    "\n",
    "There are many ways to load image using Python, such as OpenCv, MatplotLib, PIL, etc\n",
    "\n",
    "#### Read and Write Images Example  using OpenCV\n",
    "``` python\n",
    "cv2.imwrite(file_path (str), image (numpy.ndarray))\n",
    "cv2.imread(file_path (str), read_mode (int))```\n",
    "#### Read Modes\n",
    "-  ```1 = cv2.IMREAD_COLOR```\n",
    "-  ```0 = cv2.IMREAD_GRAYSCALE```\n",
    "- ```-1 = cv2.IMREAD_UNCHANGED```\n",
    "\n",
    "Load a Sample Simith image using opencv library"
   ]
  },
  {
   "cell_type": "code",
   "execution_count": null,
   "metadata": {
    "colab": {
     "base_uri": "https://localhost:8080/",
     "height": 235
    },
    "id": "pQXmdMBlo5oY",
    "outputId": "addb691d-dcdc-4cb3-ccff-a24f0d93324d"
   },
   "outputs": [],
   "source": [
    "# Read Image using OpenCV\n",
    "\n",
    "import cv2\n",
    "\n",
    "img =cv2.imread(\"/content/Facial-Recognition-MMAI844-Tutorial/sample/Smith.jpg\",1)\n",
    "img = cv2.cvtColor(img, cv2.COLOR_BGR2RGB)\n",
    "plt.imshow(img)\n",
    "plt.show()"
   ]
  },
  {
   "cell_type": "code",
   "execution_count": null,
   "metadata": {
    "colab": {
     "base_uri": "https://localhost:8080/",
     "height": 290
    },
    "id": "4zQiTsXto5oZ",
    "outputId": "eab17058-eb16-4ae5-f3c7-4bf100ae5246"
   },
   "outputs": [],
   "source": [
    "# Read Image using matplotlib\n",
    "\n",
    "import matplotlib.image as mpimg \n",
    "import matplotlib.pyplot as plt \n",
    "  \n",
    "img = mpimg.imread('/content/Facial-Recognition-MMAI844-Tutorial/sample/Smith.jpg') \n",
    "plt.imshow(img) "
   ]
  },
  {
   "cell_type": "markdown",
   "metadata": {
    "id": "nUEoppyTo5oZ"
   },
   "source": [
    "You can also Take a Picture or start video with your webcam \n",
    "\n",
    "The code below only works on local Jupyter notebook not on Colab"
   ]
  },
  {
   "cell_type": "code",
   "execution_count": null,
   "metadata": {
    "colab": {
     "base_uri": "https://localhost:8080/"
    },
    "id": "95zTcdPro5oZ",
    "outputId": "43330061-3dda-4ff1-c556-c67881e5dcb1"
   },
   "outputs": [],
   "source": [
    "def plt_show(image, title=\"\"):\n",
    "    if len(image.shape) == 3:\n",
    "        image = cv2.cvtColor(image, cv2.COLOR_BGR2RGB)\n",
    "    plt.axis(\"off\")\n",
    "    plt.title(title)\n",
    "    plt.imshow(image, cmap=\"Greys_r\")\n",
    "    plt.show()\n",
    "    \n",
    "########################################\n",
    "#Take a Picture when you camera is free\n",
    "#########################################\n",
    "webcam = cv2.VideoCapture(0)\n",
    "ret, frame = webcam.read()\n",
    "print(ret)\n",
    "webcam.release()\n",
    "if ret:\n",
    "    plt_show(frame)\n",
    "else:\n",
    "    print(\"Camera is not available\")"
   ]
  },
  {
   "cell_type": "markdown",
   "metadata": {
    "id": "AJMQuI3Uo5oZ"
   },
   "source": [
    "<div style=\"float: left; width: 75%; height: 550px; padding-bottom:350px\">\n",
    "    <img src=\"https://pyimagesearch.com/wp-content/uploads/2018/09/opencv_face_reco_facenet.jpg\" alt=\"CNN\">\n",
    "</div>\n",
    "</div>"
   ]
  },
  {
   "cell_type": "markdown",
   "metadata": {
    "id": "hh_1iKKTo5oZ"
   },
   "source": [
    "## Step 1.3: Detecting Faces with OpenCV and front face detector xml \n",
    "``` python\n",
    "detector = cv2.CascadeClassifier( xml_file_path)\n",
    "face_coord = detector.detectMultiScale(image, scale_factor, min_neighbors, min_size, flags)\n",
    "```\n",
    "face_coord: Numpy array with rows equal to [x, y, width, height]"
   ]
  },
  {
   "cell_type": "markdown",
   "metadata": {
    "id": "Zsh1mNx2o5oZ"
   },
   "source": [
    "#### Lets import a facial image to detect the face"
   ]
  },
  {
   "cell_type": "code",
   "execution_count": null,
   "metadata": {
    "colab": {
     "base_uri": "https://localhost:8080/",
     "height": 248
    },
    "id": "ag8pNVgZo5oZ",
    "outputId": "b4cbdb9d-634d-4def-d804-466d05c1065f"
   },
   "outputs": [],
   "source": [
    "frame= cv2.imread('/content/Facial-Recognition-MMAI844-Tutorial/sample/channing_tatum.jpg')\n",
    "name= \"channing_tatum\"\n",
    "plt_show(frame)"
   ]
  },
  {
   "cell_type": "markdown",
   "metadata": {
    "id": "1NP0Lz5Go5oZ"
   },
   "source": [
    "#### Belpow is loading the OpenCv face detector module and detect the face coordinators on the image"
   ]
  },
  {
   "cell_type": "code",
   "execution_count": null,
   "metadata": {
    "colab": {
     "base_uri": "https://localhost:8080/"
    },
    "id": "J8-QIxcuo5oa",
    "outputId": "1dc38c13-9926-485e-ff99-7d10944afeda"
   },
   "outputs": [],
   "source": [
    "detector = cv2.CascadeClassifier(\"/content/Facial-Recognition-MMAI844-Tutorial/xml/frontal_face.xml\")\n",
    "\n",
    "scale_factor = 1.2\n",
    "min_neighbors = 5\n",
    "min_size = (40, 40)\n",
    "biggest_only = True\n",
    "flags = cv2.CASCADE_FIND_BIGGEST_OBJECT | \\\n",
    "            cv2.CASCADE_DO_ROUGH_SEARCH if biggest_only else \\\n",
    "            cv2.CASCADE_SCALE_IMAGE\n",
    "        \n",
    "faces_coord = detector.detectMultiScale(frame,\n",
    "                                        scaleFactor=scale_factor,\n",
    "                                        minNeighbors=min_neighbors,\n",
    "                                        minSize=min_size,\n",
    "                                        flags=flags)\n",
    "print(\"Type: \" + str(type(faces_coord)))\n",
    "print(\"this is face coordinator in the picture is {}\".format(faces_coord))\n",
    "print(\"Face is successfully detected!! Let draw a box on the picture\")"
   ]
  },
  {
   "cell_type": "markdown",
   "metadata": {
    "id": "LO_l0y1-o5oa"
   },
   "source": [
    "#### Define a function to Draw a rectangel around detected face"
   ]
  },
  {
   "cell_type": "code",
   "execution_count": null,
   "metadata": {
    "id": "nv5-CB0Zo5oa"
   },
   "outputs": [],
   "source": [
    "def draw_rectangle(image, coords):\n",
    "    for (x, y, w, h) in coords:\n",
    "        w_rm = int(0.2 * w / 2) \n",
    "        cv2.rectangle(image, (x + w_rm, y), (x + w - w_rm, y + h), \n",
    "                              (0, 0, 255), 8)"
   ]
  },
  {
   "cell_type": "code",
   "execution_count": null,
   "metadata": {
    "colab": {
     "base_uri": "https://localhost:8080/",
     "height": 248
    },
    "id": "n90VUdNDo5oa",
    "outputId": "3c231e3b-d9fd-4f10-c5e4-a5ad69cf83ad"
   },
   "outputs": [],
   "source": [
    "draw_rectangle(frame,faces_coord)\n",
    "cv2.putText(frame, name,    \n",
    "                            (faces_coord[0][0], faces_coord[0][1]),\n",
    "                            cv2.FONT_HERSHEY_SIMPLEX , 2, (66, 53, 243), 6)\n",
    "plt_show(frame)"
   ]
  },
  {
   "cell_type": "code",
   "execution_count": null,
   "metadata": {
    "id": "vJWwrcWWo5ob"
   },
   "outputs": [],
   "source": [
    "############################################################\n",
    "# Wrap up the code into a face detector module for later use\n",
    "############################################################\n",
    "\n",
    "class FaceDetector(object):\n",
    "    def __init__(self, xml_path):\n",
    "        self.classifier = cv2.CascadeClassifier(xml_path)\n",
    "    \n",
    "    def detect(self, image, biggest_only=True):\n",
    "        scale_factor = 1.2\n",
    "        min_neighbors = 5\n",
    "        min_size = (30, 30)\n",
    "        biggest_only = True\n",
    "        flags = cv2.CASCADE_FIND_BIGGEST_OBJECT | \\\n",
    "                    cv2.CASCADE_DO_ROUGH_SEARCH if biggest_only else \\\n",
    "                    cv2.CASCADE_SCALE_IMAGE\n",
    "        faces_coord = self.classifier.detectMultiScale(image,\n",
    "                                                       scaleFactor=scale_factor,\n",
    "                                                       minNeighbors=min_neighbors,\n",
    "                                                       minSize=min_size,\n",
    "                                                       flags=flags)\n",
    "        return faces_coord"
   ]
  },
  {
   "cell_type": "markdown",
   "metadata": {
    "id": "r3WVNlR4o5ob"
   },
   "source": [
    "## Step 1.4: Cut Faces and resize faces"
   ]
  },
  {
   "cell_type": "markdown",
   "metadata": {
    "id": "blpz-Ngho5ob"
   },
   "source": [
    "<div style=\"float: left; width: 75%; height: 550px; padding-bottom:350px\">\n",
    "    <img src=\"https://i0.wp.com/www.life2coding.com/wp-content/uploads/2018/01/crop.jpg?resize=768%2C628&ssl=1\" alt=\"CNN\">\n",
    "</div>\n",
    "</div>"
   ]
  },
  {
   "cell_type": "markdown",
   "metadata": {
    "id": "OQzTNT1do5ob"
   },
   "source": [
    "for (x, y, w, h) in faces_coord:\n",
    "    cv2.rectangle(frame, (x, y), (x + w, y + h), (150, 150, 0), 8)\n",
    "plt_show(frame) "
   ]
  },
  {
   "cell_type": "code",
   "execution_count": null,
   "metadata": {
    "id": "m7GUTOxdo5ob"
   },
   "outputs": [],
   "source": [
    "def cut_faces(image, faces_coord):\n",
    "    faces = []\n",
    "      \n",
    "    for (x, y, w, h) in faces_coord:\n",
    "        w_rm = int(0.2 * w / 2)\n",
    "        faces.append(image[y: y + h, x + w_rm: x + w - w_rm])\n",
    "         \n",
    "    return faces"
   ]
  },
  {
   "cell_type": "code",
   "execution_count": null,
   "metadata": {
    "id": "ZwHgG8LCo5ob"
   },
   "outputs": [],
   "source": [
    "Cut_Face = cut_faces(frame, faces_coord)"
   ]
  },
  {
   "cell_type": "code",
   "execution_count": null,
   "metadata": {
    "colab": {
     "base_uri": "https://localhost:8080/",
     "height": 248
    },
    "id": "aEuVG3cuo5ob",
    "outputId": "d4c30f12-a083-48d1-b4a4-97014338f452"
   },
   "outputs": [],
   "source": [
    "plt_show(Cut_Face[0])"
   ]
  },
  {
   "cell_type": "markdown",
   "metadata": {
    "id": "DWSZsAcjo5ob"
   },
   "source": [
    "#### Define a fuction to resize the face back to 224x224 resolution"
   ]
  },
  {
   "cell_type": "code",
   "execution_count": null,
   "metadata": {
    "id": "i8icqZk6o5ob"
   },
   "outputs": [],
   "source": [
    "def resize(images, size=(224, 224)):\n",
    "    images_norm = []\n",
    "    for image in images:\n",
    "        if image.shape < size:\n",
    "            image_norm = cv2.resize(image, size, \n",
    "                                    interpolation = cv2.INTER_AREA)\n",
    "        else:\n",
    "            image_norm = cv2.resize(image, size, \n",
    "                                    interpolation = cv2.INTER_CUBIC)\n",
    "        images_norm.append(image_norm)\n",
    "\n",
    "    return images_norm "
   ]
  },
  {
   "cell_type": "code",
   "execution_count": null,
   "metadata": {
    "id": "nESpmmwZo5ob"
   },
   "outputs": [],
   "source": [
    "resize_faces = resize(Cut_Face)"
   ]
  },
  {
   "cell_type": "code",
   "execution_count": null,
   "metadata": {
    "colab": {
     "base_uri": "https://localhost:8080/",
     "height": 248
    },
    "id": "DAIUNW-fo5ob",
    "outputId": "59f7008b-b602-41ab-ad29-6bfefbd0cb94"
   },
   "outputs": [],
   "source": [
    "plt_show(resize_faces[0])"
   ]
  },
  {
   "cell_type": "markdown",
   "metadata": {
    "id": "8X_Ofq1Xo5ob"
   },
   "source": [
    "### Step 1.5: Standardize image for fitting Nerual Net Model"
   ]
  },
  {
   "cell_type": "markdown",
   "metadata": {
    "id": "_uhBvMTOo5ob"
   },
   "source": [
    "Normalizing image inputs: Data normalization is an important step which ensures that each input parameter (pixel, in this case) has a similar data distribution. This makes convergence faster while training the network.\n",
    "\n",
    "For image inputs we need the pixel numbers to be positive, so we might choose to scale the normalized data in the range [0,1]"
   ]
  },
  {
   "cell_type": "code",
   "execution_count": null,
   "metadata": {
    "colab": {
     "base_uri": "https://localhost:8080/",
     "height": 287
    },
    "id": "EUEWi_uurfHa",
    "outputId": "2f0fd7d7-e21c-4fa1-d51c-fcfaa137376f"
   },
   "outputs": [],
   "source": [
    "resize_face_stad = resize_faces[0]/255.0\n",
    "plt.imshow((resize_faces[0]/255))"
   ]
  },
  {
   "cell_type": "markdown",
   "metadata": {
    "id": "luzz0Etio5ob"
   },
   "source": [
    "# Pre-trained Model in Tensorflow\n",
    "\n",
    "## Step 2.1 Install libraries\n",
    "\n",
    "VGGFace and VGGFace2 Models\n",
    "\n",
    "The VGGFace refers to a series of models developed for face recognition and demonstrated on benchmark computer vision datasets by members of the Visual Geometry Group (VGG) at the University of Oxford.\n",
    "\n",
    "#### For more information please visit the github link:https://github.com/rcmalli/keras-vggface"
   ]
  },
  {
   "cell_type": "markdown",
   "metadata": {
    "id": "gI6vqwZzo5ob"
   },
   "source": [
    "<div style=\"float: left; width: 90%; height: 250px; padding-bottom:280px\">\n",
    "    <img src=\"https://pbs.twimg.com/media/Dn2GdPfW0AE0nf7?format=jpg&name=4096x4096\" alt=\"CNN\">\n",
    "</div>\n",
    "</div>"
   ]
  },
  {
   "cell_type": "markdown",
   "metadata": {
    "id": "ArYcx-ELo5oc"
   },
   "source": [
    "## Step 2.1: Verify Data and extract faces from public dataset"
   ]
  },
  {
   "cell_type": "code",
   "execution_count": null,
   "metadata": {
    "id": "qncRST8Eo5oc"
   },
   "outputs": [],
   "source": [
    "######################################################\n",
    "# Define a function to load image and detect faces and cut face\n",
    "######################################################\n",
    "\n",
    "def extract_face_from_file(filename, required_size=(224, 224)):\n",
    "    # load image from file\n",
    "    pixels = plt.imread(filename)\n",
    "    detector = FaceDetector(\"/content/Facial-Recognition-MMAI844-Tutorial/xml/frontal_face.xml\")\n",
    "    # create the detector, using default weights\n",
    "    faces_coord = detector.detect(image=pixels)\n",
    "    faces = cut_faces(pixels, faces_coord)\n",
    "    faces = resize(faces)\n",
    "    return faces[0]"
   ]
  },
  {
   "cell_type": "code",
   "execution_count": null,
   "metadata": {
    "colab": {
     "base_uri": "https://localhost:8080/",
     "height": 324
    },
    "id": "p7zwAwqZo5oc",
    "outputId": "0938839a-dbc3-4ebc-e25e-17b757aeeae3"
   },
   "outputs": [],
   "source": [
    "print(\"Laoding the sample piciure of Sharon Ston \\n\")\n",
    "\n",
    "Sample= plt.imread('/content/Facial-Recognition-MMAI844-Tutorial/sample/sharon_stone1.jpg')\n",
    "plt.imshow(Sample)"
   ]
  },
  {
   "cell_type": "code",
   "execution_count": null,
   "metadata": {
    "colab": {
     "base_uri": "https://localhost:8080/",
     "height": 287
    },
    "id": "dqZgQccNo5oc",
    "outputId": "c560facb-3c17-421f-e61a-d24fe0681f6b"
   },
   "outputs": [],
   "source": [
    "#####################################\n",
    "# load the photo and extract the face\n",
    "#####################################\n",
    "\n",
    "extract_face = extract_face_from_file('/content/Facial-Recognition-MMAI844-Tutorial/sample/sharon_stone1.jpg')\n",
    "plt.imshow(extract_face)"
   ]
  },
  {
   "cell_type": "markdown",
   "metadata": {
    "id": "jSJbTgblo5oc"
   },
   "source": [
    "## Step 2.2 Check Model Input and output, and model summary"
   ]
  },
  {
   "cell_type": "code",
   "execution_count": null,
   "metadata": {
    "colab": {
     "base_uri": "https://localhost:8080/"
    },
    "id": "OiOAqlxFo5oc",
    "outputId": "9e6c69b4-6628-455b-ff6d-3c503dcc13ee"
   },
   "outputs": [],
   "source": [
    "from keras_vggface.vggface import VGGFace\n",
    "# create a vggface2 model\n",
    "model = VGGFace(model='resnet50')\n",
    "# summarize input and output shape\n",
    "print('Inputs: %s' % model.inputs)\n",
    "print('Outputs: %s' % model.outputs)"
   ]
  },
  {
   "cell_type": "markdown",
   "metadata": {
    "id": "aaIbz8bXo5oc"
   },
   "source": [
    "We can see that the model expects input color images of faces with the shape of 244×244 and the output will be a class prediction of 8,631 people. the input dimension is 4. This means that you have to reshape your training set with .reshape(n_images, 286, 384, 1)"
   ]
  },
  {
   "cell_type": "markdown",
   "metadata": {
    "id": "WupEuhslo5oc"
   },
   "source": [
    "### prints out summary of model\n",
    "\n",
    "The model expects input color images of faces with the shape of 244×244 and the output will be a class prediction of 8,631 people\n"
   ]
  },
  {
   "cell_type": "code",
   "execution_count": null,
   "metadata": {
    "colab": {
     "base_uri": "https://localhost:8080/"
    },
    "id": "GLtAkxpxo5oc",
    "outputId": "f8b4baef-b251-41f2-acd3-880241516643",
    "scrolled": true
   },
   "outputs": [],
   "source": [
    "#prints out summary of model\n",
    "model.summary()"
   ]
  },
  {
   "cell_type": "markdown",
   "metadata": {
    "id": "1d9mQckso5oc"
   },
   "source": [
    "## Step 2.2 Prepare input and predict the image using Pre-train model"
   ]
  },
  {
   "cell_type": "code",
   "execution_count": null,
   "metadata": {
    "colab": {
     "base_uri": "https://localhost:8080/"
    },
    "id": "zFcfJeb6o5oc",
    "outputId": "0ba1ceea-7eeb-49e6-85ca-b20049bb42f7"
   },
   "outputs": [],
   "source": [
    "###########################################\n",
    "# Prepare the input for feeding the model\n",
    "###########################################\n",
    "\n",
    "Face_array = asarray(extract_face,'float32')\n",
    "Preprocess_face = preprocess_input(Face_array, version=2)\n",
    "print(Preprocess_face.shape)\n",
    "Preprocess_face_input = Preprocess_face.reshape(1, 224, 224, 3)\n",
    "print(Preprocess_face_input.shape)"
   ]
  },
  {
   "cell_type": "markdown",
   "metadata": {
    "id": "ntdn8SEBo5oc"
   },
   "source": [
    "#### Run Prediction and convert prediction into names"
   ]
  },
  {
   "cell_type": "code",
   "execution_count": null,
   "metadata": {
    "id": "dhV5EE1Go5oc"
   },
   "outputs": [],
   "source": [
    "# perform prediction\n",
    "yhat = model.predict(Preprocess_face_input)"
   ]
  },
  {
   "cell_type": "code",
   "execution_count": null,
   "metadata": {
    "colab": {
     "base_uri": "https://localhost:8080/"
    },
    "id": "riqvuteJo5oc",
    "outputId": "a581ac98-05ab-49a6-fdb0-5f6808fd0410"
   },
   "outputs": [],
   "source": [
    "# convert prediction into names\n",
    "results = decode_predictions(yhat)\n",
    "# display most likely results\n",
    "for result in results[0]:\n",
    "    print('%s: %.3f%%' % (result[0], result[1]*100))"
   ]
  },
  {
   "cell_type": "markdown",
   "metadata": {
    "id": "qV5njPNro5oc"
   },
   "source": [
    "#### Draw a rectangle on original image with prediction label"
   ]
  },
  {
   "cell_type": "code",
   "execution_count": null,
   "metadata": {
    "colab": {
     "base_uri": "https://localhost:8080/",
     "height": 361
    },
    "id": "TjJnv_g9o5oc",
    "outputId": "18c7d894-547b-4e05-b0ab-7e35f5b252f9"
   },
   "outputs": [],
   "source": [
    "def draw_rectangle_with_label(image, label):\n",
    "    faces_coord = detector.detectMultiScale(image,\n",
    "                                        scaleFactor=scale_factor,\n",
    "                                        minNeighbors=min_neighbors,\n",
    "                                        minSize=min_size,\n",
    "                                        flags=flags)\n",
    "    draw_rectangle(image,faces_coord)\n",
    "    cv2.putText(image, name,    \n",
    "                            (faces_coord[0][0], faces_coord[0][1]),\n",
    "                            cv2.FONT_HERSHEY_SIMPLEX , 1, (66, 53, 243), 3)\n",
    "\n",
    "    plt.imshow(image)\n",
    "    plt.show()\n",
    "    for result in results[0]:\n",
    "        print('%s: %.3f%%' % (result[0], result[1]*100))\n",
    "\n",
    "draw_rectangle_with_label(Sample, results)"
   ]
  },
  {
   "cell_type": "markdown",
   "metadata": {
    "id": "_aXaBRhPo5oc"
   },
   "source": [
    "## Step 2.3 Understand the hidden layer in VGG or CNN"
   ]
  },
  {
   "cell_type": "markdown",
   "metadata": {
    "id": "1iS0KhBPo5oc"
   },
   "source": [
    "<div style=\"float: left; width: 75%; height: 200px; padding-bottom:280px\">\n",
    "    <img src=\"http://www.ukherald.com/wp-content/uploads/2015/08/facebook-deep-learning.jpg\" alt=\"CNN\">\n",
    "</div>\n",
    "</div>"
   ]
  },
  {
   "cell_type": "markdown",
   "metadata": {
    "id": "e_vQt9RavKii"
   },
   "source": [
    "### Check the MaxPooling Layer"
   ]
  },
  {
   "cell_type": "code",
   "execution_count": null,
   "metadata": {
    "colab": {
     "base_uri": "https://localhost:8080/",
     "height": 621
    },
    "id": "QP4tb4oVo5oc",
    "outputId": "73231677-bdf9-423a-c25e-f646734552db"
   },
   "outputs": [],
   "source": [
    "# load the model again\n",
    "model = VGGFace(model='resnet50')\n",
    "\n",
    "# redefine model to output right after the third hidden layer\n",
    "model = Model(inputs=model.inputs, outputs=model.layers[4].output)\n",
    "model.summary()\n",
    "# load the image with the required shape\n",
    "img = extract_face\n",
    "# convert the image to an array\n",
    "img = img_to_array(img)\n",
    "# expand dimensions so that it represents a single 'sample'\n",
    "img = expand_dims(img, axis=0)\n",
    "# prepare the image (e.g. scale pixel values for the vgg)\n",
    "img = preprocess_input(img)\n",
    "# get feature map for first hidden layer\n",
    "feature_maps = model.predict(img)\n",
    "# plot all 4 maps in an 4x4 squares\n",
    "square = 4\n",
    "ix = 1\n",
    "for _ in range(square):\n",
    "    for _ in range(square):\n",
    "        # specify subplot and turn of axis\n",
    "        ax = pyplot.subplot(square, square, ix)\n",
    "        ax.set_xticks([])\n",
    "        ax.set_yticks([])\n",
    "        # plot filter channel in grayscale\n",
    "        pyplot.imshow(feature_maps[0, :, :, ix-1], cmap='gray')\n",
    "        ix += 1\n",
    "# show the figure\n",
    "pyplot.show()"
   ]
  },
  {
   "cell_type": "markdown",
   "metadata": {
    "id": "11vi-tgbvaSz"
   },
   "source": [
    "### Check the one of Convolutional Layers\n",
    "\n"
   ]
  },
  {
   "cell_type": "code",
   "execution_count": null,
   "metadata": {
    "colab": {
     "base_uri": "https://localhost:8080/",
     "height": 694
    },
    "id": "71zxSnbIo5oc",
    "outputId": "1a173e42-0d20-4df0-8887-423d9f8908a2"
   },
   "outputs": [],
   "source": [
    "# load the model again\n",
    "model = VGGFace(model='resnet50')\n",
    "\n",
    "# redefine model to output right after the fifth hidden layer\n",
    "model = Model(inputs=model.inputs, outputs=model.layers[6].output)\n",
    "model.summary()\n",
    "# load the image with the required shape\n",
    "img = extract_face\n",
    "# convert the image to an array\n",
    "img = img_to_array(img)\n",
    "# expand dimensions so that it represents a single 'sample'\n",
    "img = expand_dims(img, axis=0)\n",
    "# prepare the image (e.g. scale pixel values for the vgg)\n",
    "img = preprocess_input(img)\n",
    "# get feature map for first hidden layer\n",
    "feature_maps = model.predict(img)\n",
    "# plot all 4 maps in an 4x4 squares\n",
    "square = 4\n",
    "ix = 1\n",
    "for _ in range(square):\n",
    "    for _ in range(square):\n",
    "        # specify subplot and turn of axis\n",
    "        ax = pyplot.subplot(square, square, ix)\n",
    "        ax.set_xticks([])\n",
    "        ax.set_yticks([])\n",
    "        # plot filter channel in grayscale\n",
    "        pyplot.imshow(feature_maps[0, :, :, ix-1], cmap='gray')\n",
    "        ix += 1\n",
    "# show the figure\n",
    "pyplot.show()"
   ]
  },
  {
   "cell_type": "markdown",
   "metadata": {
    "id": "c17AwtKZo5oc"
   },
   "source": [
    "# Step 3: Use Pre-trained Model for Your Photo Classification (Transfer Learning)"
   ]
  },
  {
   "cell_type": "markdown",
   "metadata": {
    "id": "xRD-iWHUo5oc"
   },
   "source": [
    "<div style=\"float: left; width: 85%; height: 350px; padding-bottom:280px\">\n",
    "    <img src=\"https://www.analyticssteps.com/backend/media/thumbnail/1967565/9315476_1592890541_transfer.jpg\" alt=\"CNN\">\n",
    "</div>\n",
    "</div>"
   ]
  },
  {
   "cell_type": "markdown",
   "metadata": {
    "id": "2kG9EZ2_o5od"
   },
   "source": [
    "Transfer learning is a machine learning method where a model developed for a task is reused as the starting point for a model on a second task.\n",
    "\n",
    "It is a popular approach in deep learning where pre-trained models are used as the starting point on computer vision and natural language processing tasks given the vast compute and time resources required to develop neural network models on these problems and from the huge jumps in skill that they provide on related problems."
   ]
  },
  {
   "cell_type": "markdown",
   "metadata": {
    "id": "Mt8T1Z3vo5od"
   },
   "source": [
    "### We are going to use a public dataset for training our own model \n",
    "### VGG model did not train on these dataset before. Basically, you can train whatever dataset you want\n",
    "\n",
    "You can download the dataset from here: https://www.kaggle.com/dansbecker/5-celebrity-faces-dataset\n",
    "\n",
    "The photos haven't been cropped for consistent aspect ratios. With so few training photos, this an especially interesting test of computer vision techniques."
   ]
  },
  {
   "cell_type": "markdown",
   "metadata": {
    "id": "MWg592M2o5od"
   },
   "source": [
    "### See the sample data"
   ]
  },
  {
   "cell_type": "code",
   "execution_count": null,
   "metadata": {
    "colab": {
     "base_uri": "https://localhost:8080/",
     "height": 287
    },
    "id": "R9T0zod0o5od",
    "outputId": "6c80454e-e715-45e1-f01c-96206bee1298",
    "scrolled": true
   },
   "outputs": [],
   "source": [
    "print(\"Loading one of the sample picture \\n\")\n",
    "\n",
    "pixels = plt.imread(\"/content/Facial-Recognition-MMAI844-Tutorial/train/ben_afflek/httpwwwhillsindcomstorebenjpg.jpg\")\n",
    "plt.imshow(pixels)"
   ]
  },
  {
   "cell_type": "code",
   "execution_count": null,
   "metadata": {
    "id": "EV6d73nco5od"
   },
   "outputs": [],
   "source": [
    "from keras.preprocessing.image import ImageDataGenerator"
   ]
  },
  {
   "cell_type": "markdown",
   "metadata": {
    "id": "Emv-Zicbo5od"
   },
   "source": [
    "### Step 3.1 Prepare input data and parameters"
   ]
  },
  {
   "cell_type": "markdown",
   "metadata": {
    "id": "7hzM__u3o5od"
   },
   "source": [
    "In keras there is a \"image preprocessing function\" **ImageDataGenerator** that can not only do the image preprocessing but also run data augmentation for you.\n",
    "For more information please refer to: https://keras.io/api/preprocessing/image/"
   ]
  },
  {
   "cell_type": "code",
   "execution_count": null,
   "metadata": {
    "id": "kfpikVKlo5od"
   },
   "outputs": [],
   "source": [
    "img_height=224\n",
    "img_width=224\n",
    "batch_size=6"
   ]
  },
  {
   "cell_type": "markdown",
   "metadata": {
    "id": "GbbiWq0Eo5od"
   },
   "source": [
    "## Step 3.2 Specify the data folder train and val\n",
    "\n",
    "## ImageDataGenerator fcuntion can do all the image preprocessing for you !!!!"
   ]
  },
  {
   "cell_type": "code",
   "execution_count": null,
   "metadata": {
    "colab": {
     "base_uri": "https://localhost:8080/"
    },
    "id": "7r7X1ET6o5od",
    "outputId": "80b8b0ef-d273-4b90-987d-29b0d8691581"
   },
   "outputs": [],
   "source": [
    "train_datagen = ImageDataGenerator(\n",
    "    rescale=1. / 255,\n",
    "    rotation_range=10,  # randomly rotate images in the range (degrees, 0 to 180)\n",
    "    zoom_range = 0.1, # Randomly zoom image \n",
    "    width_shift_range=0.1,  # randomly shift images horizontally (fraction of total width)\n",
    "    height_shift_range=0.1,  # randomly shift images vertically (fraction of total height)\n",
    "    #shear_range=0.2,\n",
    "    vertical_flip=False,\n",
    "    horizontal_flip=True)\n",
    "\n",
    "test_datagen = ImageDataGenerator(rescale=1. / 255)\n",
    "\n",
    "train_generator = train_datagen.flow_from_directory(\n",
    "    '/content/Facial-Recognition-MMAI844-Tutorial/train',\n",
    "    target_size=(img_width, img_height),\n",
    "    batch_size=4,\n",
    "    class_mode='categorical')\n",
    "\n",
    "validation_generator = test_datagen.flow_from_directory(\n",
    "    '/content/Facial-Recognition-MMAI844-Tutorial/val',\n",
    "    target_size=(img_width, img_height),\n",
    "    batch_size=4,\n",
    "    class_mode='categorical')"
   ]
  },
  {
   "cell_type": "code",
   "execution_count": null,
   "metadata": {
    "id": "xJC1IjAoo5od"
   },
   "outputs": [],
   "source": [
    "######################################\n",
    "#Model training and input parameters\n",
    "#####################################\n",
    "nb_class = 5\n",
    "hidden_dim = 100\n",
    "nb_train_samples = 93\n",
    "\n",
    "nb_validation_samples = 25\n",
    "epochs = 5\n",
    "batch_size = 4\n",
    "numclasses = 5"
   ]
  },
  {
   "cell_type": "markdown",
   "metadata": {
    "id": "lFEHdikno5od"
   },
   "source": [
    "### New Model with different output layer (our own dataset is the new output layer)"
   ]
  },
  {
   "cell_type": "code",
   "execution_count": null,
   "metadata": {
    "id": "K8HqnhO_o5od"
   },
   "outputs": [],
   "source": [
    "vgg_model = VGGFace(include_top=False, input_shape=(224, 224, 3))\n",
    "last_layer = vgg_model.get_layer('pool5').output\n",
    "x = Flatten(name='flatten')(last_layer)\n",
    "x = Dense(hidden_dim, activation='relu', name='fc6')(x)\n",
    "x = Dense(hidden_dim, activation='relu', name='fc7')(x)\n",
    "out = Dense(nb_class, activation='softmax', name='fc8')(x)\n",
    "custom_vgg_model = Model(vgg_model.input, out)"
   ]
  },
  {
   "cell_type": "code",
   "execution_count": null,
   "metadata": {
    "colab": {
     "base_uri": "https://localhost:8080/"
    },
    "id": "zwfFGsBYo5od",
    "outputId": "640ba794-5706-4b56-e8de-748f9582689d",
    "scrolled": true
   },
   "outputs": [],
   "source": [
    "custom_vgg_model.summary()"
   ]
  },
  {
   "cell_type": "code",
   "execution_count": null,
   "metadata": {
    "id": "HBzkPUeno5od"
   },
   "outputs": [],
   "source": [
    "lr = 1e-4\n",
    "decay = 1e-6 #0.0\n",
    "optimizer = RMSprop(lr=lr, decay=decay)\n",
    "custom_vgg_model.compile(loss='categorical_crossentropy',\n",
    "              optimizer=optimizer,\n",
    "              metrics=['accuracy'])"
   ]
  },
  {
   "cell_type": "markdown",
   "metadata": {
    "id": "jKplcI8Ho5od"
   },
   "source": [
    "## Step 3.3 Train model \n",
    "\n",
    "### Due to time issue, we wil just train couple epoch here"
   ]
  },
  {
   "cell_type": "code",
   "execution_count": null,
   "metadata": {
    "colab": {
     "base_uri": "https://localhost:8080/",
     "height": 474
    },
    "id": "gxMBFGgUo5oe",
    "outputId": "259aeb5c-7487-4a8a-e17d-3e952c6b4958",
    "scrolled": true
   },
   "outputs": [],
   "source": [
    "history = custom_vgg_model.fit_generator(\n",
    "    train_generator,\n",
    "    steps_per_epoch=nb_train_samples // batch_size,\n",
    "    epochs=epochs,\n",
    "    validation_data=validation_generator,\n",
    "    validation_steps=nb_validation_samples // batch_size)"
   ]
  },
  {
   "cell_type": "markdown",
   "metadata": {
    "id": "LCfoXHrXo5oe"
   },
   "source": [
    "## Step 3.4 Visualize the trainning and validation accuracy and loss"
   ]
  },
  {
   "cell_type": "code",
   "execution_count": null,
   "metadata": {
    "id": "v8oBXnhxo5oe"
   },
   "outputs": [],
   "source": [
    "# Get training and test loss histories\n",
    "training_loss = history.history['loss']\n",
    "training_acc = history.history['accuracy']\n",
    "\n",
    "# Create count of the number of epochs\n",
    "epoch_count = range(1, len(training_loss) + 1)\n",
    "\n",
    "fig=plt.figure(figsize=(12, 4))\n",
    "# Visualize loss history\n",
    "fig.add_subplot(121)\n",
    "plt.plot(epoch_count, training_loss, 'r--')\n",
    "plt.plot(epoch_count, training_acc, 'b-')\n",
    "plt.legend(['Training Loss', 'Training Accuracy'])\n",
    "plt.xlabel('Epoch')\n",
    "plt.ylabel('Training Loss/Acc')\n",
    "\n",
    "# Get training and test loss histories\n",
    "val_acc = history.history['val_accuracy']\n",
    "training_acc = history.history['accuracy']\n",
    "\n",
    "# Create count of the number of epochs\n",
    "epoch_count = range(1, len(val_acc) + 1)\n",
    "\n",
    "# Visualize loss history\n",
    "fig.add_subplot(122)\n",
    "plt.plot(epoch_count, val_acc, 'r--')\n",
    "plt.plot(epoch_count, training_acc, 'b-')\n",
    "plt.legend(['Validation Accuracy', 'Training Accuracy'])\n",
    "plt.xlabel('Epoch')\n",
    "plt.ylabel('Accuracy')\n",
    "\n",
    "plt.show();"
   ]
  },
  {
   "cell_type": "markdown",
   "metadata": {
    "id": "1mLt-KwIo5oe"
   },
   "source": [
    "## Step 3.5 Save the model and run prediction"
   ]
  },
  {
   "cell_type": "code",
   "execution_count": null,
   "metadata": {
    "id": "wtWoAUbao5oe"
   },
   "outputs": [],
   "source": [
    "saveweight =  'celebriytag_weight.h5'\n",
    "model.save_weights(saveweight)"
   ]
  },
  {
   "cell_type": "code",
   "execution_count": null,
   "metadata": {
    "id": "TRi5G7Xio5oe"
   },
   "outputs": [],
   "source": [
    "labels = ['ben_afflek',  'elton_john',  'jerry_seinfeld',  'madonna',  'mindy_kaling']\n",
    "test_imgs = ['/content/Facial-Recognition-MMAI844-Tutorial/val/ben_afflek/123MTENDgMDUODczNDcNTcjpg.jpg']\n",
    "\n",
    "\n",
    "test_img = '/content/Facial-Recognition-MMAI844-Tutorial/val/ben_afflek/123MTENDgMDUODczNDcNTcjpg.jpg'\n",
    "img = image.load_img(test_img, target_size=(img_width, img_height))\n",
    "x = image.img_to_array(img)\n",
    "x = np.expand_dims(x, axis=0)\n",
    "x /= 255.\n",
    "classes = custom_vgg_model.predict(x)\n",
    "result = np.squeeze(classes)\n",
    "result_indices = np.argmax(result)\n",
    "    \n",
    "img = cv2.imread(test_img, cv2.IMREAD_COLOR)\n",
    "img = cv2.cvtColor(img, cv2.COLOR_BGR2RGB)\n",
    "plt.axis('off')\n",
    "plt.title(\"{}, {:.2f}%\".format(labels[result_indices], result[result_indices]*100))\n",
    "plt.imshow(img)"
   ]
  },
  {
   "cell_type": "markdown",
   "metadata": {
    "id": "mqdQOAe6o5oe"
   },
   "source": [
    "## Hope you enjoy the tutorial\n",
    "### If you have any question about the notebook, please contact:  \n",
    "\n",
    "### GROUP-Albert_MMAI2021 \n",
    "GROUP-Albert_MMAI2021@queensu.ca\n",
    "\n",
    "### Bencheng Wei \n",
    "20bw3@queensu.ca / \n",
    "[linkedin](http://linkedin.com/in/msanabriar/) /"
   ]
  },
  {
   "cell_type": "code",
   "execution_count": null,
   "metadata": {
    "id": "O_CshaaOo5oe"
   },
   "outputs": [],
   "source": []
  }
 ],
 "metadata": {
  "colab": {
   "collapsed_sections": [],
   "name": "Facial Recognition-MMAI844- Colab Version.ipynb",
   "provenance": [],
   "toc_visible": true
  },
  "kernelspec": {
   "display_name": "Python 3",
   "language": "python",
   "name": "python3"
  },
  "language_info": {
   "codemirror_mode": {
    "name": "ipython",
    "version": 3
   },
   "file_extension": ".py",
   "mimetype": "text/x-python",
   "name": "python",
   "nbconvert_exporter": "python",
   "pygments_lexer": "ipython3",
   "version": "3.7.6"
  }
 },
 "nbformat": 4,
 "nbformat_minor": 1
}
